{
 "cells": [
  {
   "cell_type": "code",
   "execution_count": 7,
   "metadata": {},
   "outputs": [],
   "source": [
    "from langchain.document_loaders import CSVLoader\n",
    "local_doc_path = 'accidentLabeled.csv'\n",
    "loader = CSVLoader(file_path=local_doc_path,encoding='utf-8')\n",
    "docs = loader.load()"
   ]
  },
  {
   "cell_type": "code",
   "execution_count": 8,
   "metadata": {},
   "outputs": [],
   "source": [
    "from langchain.embeddings import OpenAIEmbeddings\n",
    "embeddings = OpenAIEmbeddings() \n",
    "query=\"an accident involve multiple cars\"\n",
    "embed = embeddings.embed_query(query)"
   ]
  },
  {
   "cell_type": "code",
   "execution_count": 9,
   "metadata": {},
   "outputs": [
    {
     "data": {
      "text/plain": [
       "[Document(page_content=': multiple cars\\naccident type: This case involves a seriously-injured, belt-restrained, 41-year-old, female driver of a 2012 Nissan Rogue four-door Sport Utility Vehicle, involved in a multi-event-crash. The primary event in this crash involved a collision between the frontal plane of the case vehicle and the frontal plane of a 2005 Ford Focus four-door sedan. Prior to this collision, the case vehicle sustained a far-side sideswipe collision with a 2001 Volvo S60.This four-vehicle collision occurred during the post-midnight hours (dark, street lights present) on a multi-lane urban interstate. This trafficway is composed of asphalt and has seven lanes that primarily travel in an east and west direction and are separated by a Jersey barrier. The eastbound lanes have a negative four percent grade and four travel lanes. The westbound roadway has three travel lanes. The roadway is straight with no traffic control devices. There is a posted speed limit of 113 km/h (70 mph). At the time of the crash, the weather was clear and the roadway surface was dry.Vehicle 1, the 2012 Nissan Rogue, driven by the 41-year-old female driver (CIREN case subject), was traveling in the number two eastbound travel lane.Vehicle 2, a 2001 Volvo S60, was driven by an unknown age male in the number one, eastbound travel lane.Vehicle 3, a non-occupied 2012 Chevrolet Cruze was parked on the southern shoulder of the eastbound lane.Vehicle 4, a 2005 Ford Focus, driven by a 28-year-old female, was traveling eastbound in the number four travel lane.Vehicle 2 drifted to the right of the roadway and entered the south edge of the right shoulder. While on the shoulder, the frontal plane of Vehicle 2 impacted the rear plane of Vehicle 3 (Event 1). This impact redirected Vehicle 2 back onto the roadway, where the left side of Vehicle 2 impacted the right side of Vehicle 1 (Events 2 and 3) in a sideswipe. This impact caused Vehicle 1 to enter into a counterclockwise rotation. Vehicle 1 exited lane two, crossed lane three and entered the number four travel lane into the path of vehicle 4 where the frontal plane of Vehicle 4 impacted the frontal plane of Vehicle 1 (Event 4). The impact caused Vehicle 4 to rotate in a counterclockwise direction where it impacted a Jersey barrier with the frontal plane (Event 6). Vehicle 4 continued to rotate in a counterclockwise direction coming to rest facing in a northeasterly direction on the north shoulder. Vehicle 1 rotated a short distance in a clockwise direction coming to rest facing northeast in the number three, eastbound travel lane. Vehicle 2 rotated in a clockwise direction and impacted the Jersey barrier with the rear plane (Event 5). Vehicle 2 continued to rotate in a clockwise direction for a short distance and came to rest facing northeast in the number three, eastbound travel lane. All vehicles were towed from the scene due to disabling damage. Vehicle 1 also had a small fire contained to the engine compartment (Event 7).\\ndescription: None', metadata={'source': 'accidentLabeled.csv', 'row': 17}),\n",
       " Document(page_content=\": multiple cars\\naccident type: This crash case involves a moderately-injured, unrestrained, 21-year-old, female driver of a 2014 Honda Civic two-door coupe, which was involved in a frontal impact with the rear of a 2012 Chevrolet Cruze four-door sedan. The case vehicle's frontal plane then collided with the front of a 2012 Honda Civic two-door coupe.This three-vehicle crash occurred during the daylight hours on a rural two-lane roadway approaching a three-legged intersection. The north/south roadway was composed of one northbound lane and one southbound lane. The northbound lane curved to the right with a level grade approaching the intersection. The southbound lane curved to the left with a level grade approaching the intersection. The weather was cloudy and the asphalt roadway was dry with a speed limit of 89 kmph (55 mph). The north/south roadway had no traffic controls and the eastbound intersecting roadway was controlled by a stop sign.Vehicle 1, the 2014 Honda Civic two-door coupe, was being driven by the 21-year-old female driver (CIREN case subject) in the left, northbound travel lane, attempting to negotiate the curve and continue heading north.Vehicle 2, the 2012 Chevrolet Cruze four-door sedan, was traveling northbound and stopped at the intersection waiting on traffic to clear so it could head westbound onto the intersecting road.Vehicle 3, the 2012 Honda Civic two-door coupe, was traveling in the southbound travel lane, attempting to negotiate the curve and continue heading south.The driver of Vehicle 1 noticed Vehicle 2 stopped in the northbound lane. She then steered left and braked in an attempt to avoid contact with Vehicle 2. The front right corner of Vehicle 1 contacted the left rear corner of Vehicle 2. The steering maneuver by the driver of Vehicle 1 caused her vehicle to enter into the southbound lane where the frontal plane of Vehicle 1 contacted the frontal plane of Vehicle 3. Vehicle 1 rotated counterclockwise before coming to rest in the intersection while remaining in the southbound lane facing in a west-southwesterly direction. Vehicle 3 rotated counterclockwise and moved a short distance to the east before coming to rest in the intersection facing a northerly direction. Vehicle 1 and Vehicle 3 were towed after sustaining disabling damage. Vehicle 2 was driven from the crash scene.\\ndescription: None\", metadata={'source': 'accidentLabeled.csv', 'row': 19}),\n",
       " Document(page_content=': multiple cars\\naccident type: This investigation focused on the injury mechanisms of a belted, 32-year-old, male, right-front passenger with deployed front and side airbags. He sustained serious injuries when the minivan he was riding in was involved in a multi-event crash with two other vehicles.The case vehicle was also occupied by an unbelted driver and two child passengers using child restraints. A 28-year-old female was driving. An eight-year-old female was seated in a forward facing child seat in the second row right seat. A five-year-old male was seated in a booster seat in the third row left seat. All three non-case occupants suffered police-reported non-incapacitating injuries.The crash occurred during mid-evening hours in the dark on a wet road in the rain. The roadway consisted of a two-way, north/south, two-lane, rural highway with a posted speed limit of 80 km/h (50 mph). The bituminous road was curved right in V1 and V2’s southbound direction of travel with twelve percent superelevation and a four percent downhill grade. There was a warning sign with an “intersection ahead” icon in the area of approach to the points of impact.A 2016 Chrysler Town & Country minivan (V1) was stopped in the travel lane waiting to turn left at the three-legged intersection. A 2000 Dodge Ram 2500 pickup (V2) was traveling south negotiating the right curve approaching V1 and the intersection, intending to continue straight. A 2005 Honda Pilot utility vehicle (V3) was traveling north approaching the same intersection.Vehicle 2 did not see V1 stopped in the road in time to avoid a collision. V2 skidded for approximately 73 meters, as reported by police, before striking the back plane of V1 (Event 1). Vehicle 1 was pushed forward into the oncoming lane while rotating counter-clockwise approximately 70 degrees. The right plane of V1 was struck by the front plane of V3 (Event 2). The force of this impact caused V1 to roll one quarter turn to the left (Event 3), where it and V3 came to rest in the intersection. Vehicle 2 came to rest on the west shoulder. All three vehicles were towed due to damage.\\ndescription: None', metadata={'source': 'accidentLabeled.csv', 'row': 20})]"
      ]
     },
     "execution_count": 9,
     "metadata": {},
     "output_type": "execute_result"
    }
   ],
   "source": [
    "from langchain.vectorstores import DocArrayInMemorySearch\n",
    "db = DocArrayInMemorySearch.from_documents(docs, embeddings)\n",
    "relative_docs = db.similarity_search(query)\n",
    "relative_docs[:3]"
   ]
  },
  {
   "cell_type": "code",
   "execution_count": 10,
   "metadata": {},
   "outputs": [],
   "source": [
    "from langchain.llms import OpenAI\n",
    "context = \"\".join([doc.page_content for doc in relative_docs])\n",
    "prompt=f\"\"\"You are an expert in generating accident reports. Please generate accident report about {query}, and here are some examples of relative accident reports: {context}\"\"\""
   ]
  },
  {
   "cell_type": "code",
   "execution_count": 11,
   "metadata": {},
   "outputs": [],
   "source": [
    "from openai import OpenAI\n",
    "import os\n",
    "openai_api_key = os.environ['OPENAI_API_KEY']\n",
    "client = OpenAI(api_key=openai_api_key)\n",
    "def get_completion_from_openai(prompt, model='gpt-3.5-turbo'):\n",
    "    messages = [{\"role\": \"user\", \"content\": prompt}]\n",
    "    response = client.chat.completions.create(\n",
    "        model=model,\n",
    "        messages=messages,\n",
    "        temperature=0.8,\n",
    "        top_p=0.8,\n",
    "        max_tokens=512,\n",
    "        frequency_penalty=1.1,\n",
    "        presence_penalty=1.1\n",
    "    )\n",
    "    return response.choices[0].message.content"
   ]
  },
  {
   "cell_type": "code",
   "execution_count": 12,
   "metadata": {},
   "outputs": [
    {
     "name": "stdout",
     "output_type": "stream",
     "text": [
      "0\n",
      "1\n",
      "2\n",
      "3\n",
      "4\n"
     ]
    }
   ],
   "source": [
    "from IPython.display import Markdown\n",
    "import json\n",
    "json_file = 'accident.json'\n",
    "try:\n",
    "    with open(json_file, 'r', encoding='utf-8') as file:\n",
    "        data = json.load(file)\n",
    "except (FileNotFoundError, json.JSONDecodeError):\n",
    "    data = []\n",
    "for i in range(5):\n",
    "    print(i)\n",
    "    response = get_completion_from_openai(prompt=prompt)\n",
    "    Markdown(response)\n",
    "    new_data = {\"query\": query, \"response\": response}\n",
    "    data.append(new_data)\n",
    "    with open(json_file, 'w', encoding='utf-8') as file:\n",
    "        json.dump(data, file, ensure_ascii=False, indent=4)"
   ]
  }
 ],
 "metadata": {
  "kernelspec": {
   "display_name": "learnlangchain",
   "language": "python",
   "name": "python3"
  },
  "language_info": {
   "codemirror_mode": {
    "name": "ipython",
    "version": 3
   },
   "file_extension": ".py",
   "mimetype": "text/x-python",
   "name": "python",
   "nbconvert_exporter": "python",
   "pygments_lexer": "ipython3",
   "version": "3.10.13"
  }
 },
 "nbformat": 4,
 "nbformat_minor": 2
}
