{
 "cells": [
  {
   "cell_type": "code",
   "execution_count": 1,
   "metadata": {},
   "outputs": [],
   "source": [
    "from langchain.document_loaders import CSVLoader\n",
    "local_doc_path = 'accidentLabeled.csv'\n",
    "loader = CSVLoader(file_path=local_doc_path,encoding='utf-8')\n",
    "docs = loader.load()"
   ]
  },
  {
   "cell_type": "code",
   "execution_count": 2,
   "metadata": {},
   "outputs": [
    {
     "name": "stderr",
     "output_type": "stream",
     "text": [
      "/home/jyx/miniconda3/envs/learnlangchain/lib/python3.10/site-packages/langchain_core/_api/deprecation.py:117: LangChainDeprecationWarning: The class `langchain_community.embeddings.openai.OpenAIEmbeddings` was deprecated in langchain-community 0.1.0 and will be removed in 0.2.0. An updated version of the class exists in the langchain-openai package and should be used instead. To use it run `pip install -U langchain-openai` and import as `from langchain_openai import OpenAIEmbeddings`.\n",
      "  warn_deprecated(\n"
     ]
    }
   ],
   "source": [
    "from langchain.embeddings import OpenAIEmbeddings\n",
    "embeddings = OpenAIEmbeddings() \n",
    "query=\"accident at a crossroad\"\n",
    "embed = embeddings.embed_query(query)"
   ]
  },
  {
   "cell_type": "code",
   "execution_count": 3,
   "metadata": {},
   "outputs": [
    {
     "data": {
      "text/plain": [
       "[Document(page_content=': crossroad\\naccident type: This crash case involves a seriously-injured, belt-restrained, 36-year-old, 35-week pregnant female driver of a 2016 Honda Accord four-door sedan, which was primarily involved in a frontal collision with the front plane of a 2008 Chrysler Town and Country minivan.This two-vehicle collision occurred during daylight hours on an asphalt, urban roadway. The northbound roadway consists of three travel lanes with the first travel lane as a dedicated right-turn lane onto the interstate on-ramp. The southbound roadway consists of three travel lanes with the third travel lane as a channelized left-turn lane onto the interstate on-ramp. The intersection is controlled by standard overhead, electric, tri-colored traffic signals. The roadway is straight, with a posted speed limit of 72 km/h (45 mph). At the time of the crash, the weather was clear and the roadway surface was dry.Vehicle 1, a 2016 Honda Accord sedan, was being driven southbound by the 36-year-old female driver in the second travel lane. The driver of Vehicle 1 intended to continue traveling south.Vehicle 2, a 2008 Chrysler Town and Country minivan, was being driven northbound in the third travel lane. The driver of V2 intended to continue traveling north.Per the crash report, the driver of V1 had a medical event which rendered her unconscious causing the car to move forward traveling left through the channelized median, through the intersection and into the third northbound travel lane where the front plane of V1 impacted the front plane of V2. Vehicle 1 rotated counterclockwise and came to rest on the concrete median facing northeast. Vehicle 2 was pushed back slightly and rotated clockwise where it came to rest in the second northbound travel lane facing northeast.\\ndescription: None', metadata={'source': 'accidentLabeled.csv', 'row': 8}),\n",
       " Document(page_content=': crossroad\\naccident type: This investigation focused on the injury mechanisms of a belted, 53-year-old, female driver with a deployed frontal airbag. She sustained serious injuries when the compact utility vehicle she was driving (V1) was involved in a frontal, right-angle crash to a large pickup truck (V2). No other passengers were in the vehicle.The crash occurred during early evening hours on a dark but lighted, wet road under cloudy skies. The roadway consisted of an intersection between a suburban connector road and a neighborhood. There was a two-way, two-lane, east/west suburban road with a posted speed limit of 72 km/h (45 mph) joined with a two-way, two-lane, north/south neighborhood road controlled with stop signs. For V1’s westbound approach, the bituminous road was curved left with 4% superelevation and on a 1.5% downhill grade. For V2’s northbound approach, the road was straight and on a 4% uphill grade.A 2013 Honda CR-V utility vehicle (V1) was traveling west in the right lane approaching an intersection. A 2003 Chevrolet Silverado 1500 pickup (V2) was stopped facing north at a stop sign.Vehicle 2 proceeded north across the intersection and was struck on the right plane by the front plane of V1 (Event 1). The impact caused both vehicles to travel off the northwest corner of the intersection, where they came to rest. Both vehicles were towed due to damage.\\ndescription: None', metadata={'source': 'accidentLabeled.csv', 'row': 6}),\n",
       " Document(page_content=': crossroad\\naccident type: This crash case involves a seriously-injured, 3-point-belt-restrained, 77-year-old, female driver of a 2013 Mini-Cooper 2-door convertible, which was primarily involved in a near-side collision with the frontal plane of a 2002 Chevrolet Suburban 4-door large utility vehicle.This two-vehicle collision occurred during daylight hours at the intersection of two urban trafficways. The north/south trafficway consists of three southbound lanes and two northbound lanes with one dedicated left turn lane. This trafficway is level. The east trafficway is a controlled entrance/exit to a private business. This trafficway consists of one eastbound lane and one westbound lane separated by dedicated left turn lane. This trafficway has a 4.3 degree negative grade. The intersection is controlled by overhead, standard electric, tri-colored traffic signals. At the time of the crash, the weather was clear and the roadway surfaces were dry.Vehicle 1, a 2013 Mini Cooper 2-door convertible, was being driven by the 77-year-old female driver (CIREN case occupant) in the number two, northbound travel lane, approaching the intersection from the south. The driver of Vehicle 1 intended to cross through the intersection and continue traveling north.Vehicle 2, a 2002 Chevrolet Suburban 4-door large utility vehicle, was traveling eastbound in the left turning lane, approaching the intersection from the west. The driver of Vehicle 2 intended to turn left at the intersection and continue traveling north.Both vehicles entered the intersection and the frontal plane of Vehicle 2 struck the left side plane of Vehicle 1 (event 1). Vehicle 1 rotated counterclockwise and came to rest in the number one northbound lane facing in a northwesterly direction. Vehicle 2 partially continued its left-hand turn and came to rest on the north side of the intersection facing in a slightly northeasterly direction. Vehicle 2 did not sustain significant damage and was driven from the scene by its driver. Vehicle 1 was towed from the scene due to damage sustained in the crash.\\ndescription: None', metadata={'source': 'accidentLabeled.csv', 'row': 1})]"
      ]
     },
     "execution_count": 3,
     "metadata": {},
     "output_type": "execute_result"
    }
   ],
   "source": [
    "from langchain.vectorstores import DocArrayInMemorySearch\n",
    "db = DocArrayInMemorySearch.from_documents(docs, embeddings)\n",
    "relative_docs = db.similarity_search(query)\n",
    "relative_docs[:3]"
   ]
  },
  {
   "cell_type": "code",
   "execution_count": 4,
   "metadata": {},
   "outputs": [],
   "source": [
    "from langchain.llms import OpenAI\n",
    "context = \"\".join([doc.page_content for doc in relative_docs])\n",
    "prompt=f\"\"\"You are an expert in generating accident reports. Please generate accident report about {query}, and here are some examples of relative accident reports: {context}\"\"\""
   ]
  },
  {
   "cell_type": "code",
   "execution_count": 5,
   "metadata": {},
   "outputs": [],
   "source": [
    "from openai import OpenAI\n",
    "import os\n",
    "openai_api_key = os.environ['OPENAI_API_KEY']\n",
    "client = OpenAI(api_key=openai_api_key)\n",
    "def get_completion_from_openai(prompt, model='gpt-3.5-turbo'):\n",
    "    messages = [{\"role\": \"user\", \"content\": prompt}]\n",
    "    response = client.chat.completions.create(\n",
    "        model=model,\n",
    "        messages=messages,\n",
    "        temperature=0.8,\n",
    "        top_p=0.8,\n",
    "        max_tokens=512,\n",
    "        frequency_penalty=1.1,\n",
    "        presence_penalty=1.1\n",
    "    )\n",
    "    return response.choices[0].message.content"
   ]
  },
  {
   "cell_type": "code",
   "execution_count": 6,
   "metadata": {},
   "outputs": [
    {
     "name": "stdout",
     "output_type": "stream",
     "text": [
      "0\n",
      "1\n",
      "2\n",
      "3\n",
      "4\n"
     ]
    }
   ],
   "source": [
    "from IPython.display import Markdown\n",
    "import json\n",
    "json_file = 'accident.json'\n",
    "try:\n",
    "    with open(json_file, 'r', encoding='utf-8') as file:\n",
    "        data = json.load(file)\n",
    "except (FileNotFoundError, json.JSONDecodeError):\n",
    "    data = []\n",
    "for i in range(5):\n",
    "    print(i)\n",
    "    response = get_completion_from_openai(prompt=prompt)\n",
    "    Markdown(response)\n",
    "    new_data = {\"query\": query, \"response\": response}\n",
    "    data.append(new_data)\n",
    "    with open(json_file, 'w', encoding='utf-8') as file:\n",
    "        json.dump(data, file, ensure_ascii=False, indent=4)"
   ]
  }
 ],
 "metadata": {
  "kernelspec": {
   "display_name": "learnlangchain",
   "language": "python",
   "name": "python3"
  },
  "language_info": {
   "codemirror_mode": {
    "name": "ipython",
    "version": 3
   },
   "file_extension": ".py",
   "mimetype": "text/x-python",
   "name": "python",
   "nbconvert_exporter": "python",
   "pygments_lexer": "ipython3",
   "version": "3.10.13"
  }
 },
 "nbformat": 4,
 "nbformat_minor": 2
}
